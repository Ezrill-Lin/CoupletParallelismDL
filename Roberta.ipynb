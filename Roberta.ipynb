{
 "cells": [
  {
   "cell_type": "code",
   "execution_count": 7,
   "metadata": {},
   "outputs": [],
   "source": [
    "import numpy as np\n",
    "import pandas as pd\n",
    "import transformers\n",
    "import torchvision\n",
    "import torch\n",
    "\n",
    "from transformers import AutoConfig, TrainingArguments\n",
    "from transformers import AutoTokenizer,AutoModelForTokenClassification\n",
    "from datasets import load_dataset\n",
    "from transformers import RobertaTokenizerFast\n",
    "from scipy.stats import pearsonr"
   ]
  },
  {
   "cell_type": "code",
   "execution_count": 5,
   "metadata": {},
   "outputs": [
    {
     "data": {
      "text/html": [
       "<div>\n",
       "<style scoped>\n",
       "    .dataframe tbody tr th:only-of-type {\n",
       "        vertical-align: middle;\n",
       "    }\n",
       "\n",
       "    .dataframe tbody tr th {\n",
       "        vertical-align: top;\n",
       "    }\n",
       "\n",
       "    .dataframe thead th {\n",
       "        text-align: right;\n",
       "    }\n",
       "</style>\n",
       "<table border=\"1\" class=\"dataframe\">\n",
       "  <thead>\n",
       "    <tr style=\"text-align: right;\">\n",
       "      <th></th>\n",
       "      <th>Column1</th>\n",
       "      <th>Column2</th>\n",
       "      <th>Column1_Tag</th>\n",
       "      <th>Column2_Tag</th>\n",
       "    </tr>\n",
       "  </thead>\n",
       "  <tbody>\n",
       "    <tr>\n",
       "      <th>0</th>\n",
       "      <td>晚风摇树树还挺</td>\n",
       "      <td>晨露润花花更红</td>\n",
       "      <td>[0, 0, 1, 0, 0, 0, 1]</td>\n",
       "      <td>[0, 0, 1, 0, 0, 0, 0]</td>\n",
       "    </tr>\n",
       "    <tr>\n",
       "      <th>1</th>\n",
       "      <td>愿景天成无墨迹</td>\n",
       "      <td>万方乐奏有于阗</td>\n",
       "      <td>[1, 0, 0, 1, 1, 0, 0]</td>\n",
       "      <td>[0, 0, 0, 1, 1, 0, 0]</td>\n",
       "    </tr>\n",
       "    <tr>\n",
       "      <th>2</th>\n",
       "      <td>丹枫江冷人初去</td>\n",
       "      <td>绿柳堤新燕复来</td>\n",
       "      <td>[0, 0, 0, 0, 0, 0, 1]</td>\n",
       "      <td>[0, 0, 0, 0, 0, 0, 1]</td>\n",
       "    </tr>\n",
       "    <tr>\n",
       "      <th>3</th>\n",
       "      <td>闲来野钓人稀处</td>\n",
       "      <td>兴起高歌酒醉中</td>\n",
       "      <td>[0, 1, 0, 1, 0, 0, 0]</td>\n",
       "      <td>[0, 0, 0, 0, 0, 0, 0]</td>\n",
       "    </tr>\n",
       "    <tr>\n",
       "      <th>4</th>\n",
       "      <td>投石向天跟命斗</td>\n",
       "      <td>闭门问卷与时争</td>\n",
       "      <td>[1, 0, 0, 0, 0, 0, 1]</td>\n",
       "      <td>[0, 0, 0, 0, 0, 0, 1]</td>\n",
       "    </tr>\n",
       "  </tbody>\n",
       "</table>\n",
       "</div>"
      ],
      "text/plain": [
       "   Column1  Column2            Column1_Tag            Column2_Tag\n",
       "0  晚风摇树树还挺  晨露润花花更红  [0, 0, 1, 0, 0, 0, 1]  [0, 0, 1, 0, 0, 0, 0]\n",
       "1  愿景天成无墨迹  万方乐奏有于阗  [1, 0, 0, 1, 1, 0, 0]  [0, 0, 0, 1, 1, 0, 0]\n",
       "2  丹枫江冷人初去  绿柳堤新燕复来  [0, 0, 0, 0, 0, 0, 1]  [0, 0, 0, 0, 0, 0, 1]\n",
       "3  闲来野钓人稀处  兴起高歌酒醉中  [0, 1, 0, 1, 0, 0, 0]  [0, 0, 0, 0, 0, 0, 0]\n",
       "4  投石向天跟命斗  闭门问卷与时争  [1, 0, 0, 0, 0, 0, 1]  [0, 0, 0, 0, 0, 0, 1]"
      ]
     },
     "metadata": {},
     "output_type": "display_data"
    },
    {
     "data": {
      "text/html": [
       "<div>\n",
       "<style scoped>\n",
       "    .dataframe tbody tr th:only-of-type {\n",
       "        vertical-align: middle;\n",
       "    }\n",
       "\n",
       "    .dataframe tbody tr th {\n",
       "        vertical-align: top;\n",
       "    }\n",
       "\n",
       "    .dataframe thead th {\n",
       "        text-align: right;\n",
       "    }\n",
       "</style>\n",
       "<table border=\"1\" class=\"dataframe\">\n",
       "  <thead>\n",
       "    <tr style=\"text-align: right;\">\n",
       "      <th></th>\n",
       "      <th>Column1</th>\n",
       "      <th>Column2</th>\n",
       "      <th>Column1_Tag</th>\n",
       "      <th>Column2_Tag</th>\n",
       "    </tr>\n",
       "  </thead>\n",
       "  <tbody>\n",
       "    <tr>\n",
       "      <th>0</th>\n",
       "      <td>半百心愁温旧梦</td>\n",
       "      <td>一江春水向东流</td>\n",
       "      <td>[0, 0, 0, 1, 1, 0, 0]</td>\n",
       "      <td>[0, 0, 0, 0, 0, 0, 1]</td>\n",
       "    </tr>\n",
       "    <tr>\n",
       "      <th>1</th>\n",
       "      <td>淤泥未染荷君子</td>\n",
       "      <td>风雨独高松大夫</td>\n",
       "      <td>[0, 0, 0, 1, 0, 0, 0]</td>\n",
       "      <td>[0, 0, 0, 0, 0, 0, 0]</td>\n",
       "    </tr>\n",
       "    <tr>\n",
       "      <th>2</th>\n",
       "      <td>新绿水生春释菜</td>\n",
       "      <td>小红桥近夜看花</td>\n",
       "      <td>[0, 0, 0, 0, 0, 0, 0]</td>\n",
       "      <td>[0, 0, 0, 0, 0, 1, 0]</td>\n",
       "    </tr>\n",
       "    <tr>\n",
       "      <th>3</th>\n",
       "      <td>惠山西指九峰麓</td>\n",
       "      <td>吴会南临一宿程</td>\n",
       "      <td>[0, 0, 0, 1, 0, 0, 0]</td>\n",
       "      <td>[0, 0, 0, 1, 0, 0, 0]</td>\n",
       "    </tr>\n",
       "    <tr>\n",
       "      <th>4</th>\n",
       "      <td>匠笔濡心开绝境</td>\n",
       "      <td>师言得体亮高风</td>\n",
       "      <td>[0, 0, 1, 0, 1, 0, 0]</td>\n",
       "      <td>[0, 0, 0, 0, 0, 0, 0]</td>\n",
       "    </tr>\n",
       "  </tbody>\n",
       "</table>\n",
       "</div>"
      ],
      "text/plain": [
       "   Column1  Column2            Column1_Tag            Column2_Tag\n",
       "0  半百心愁温旧梦  一江春水向东流  [0, 0, 0, 1, 1, 0, 0]  [0, 0, 0, 0, 0, 0, 1]\n",
       "1  淤泥未染荷君子  风雨独高松大夫  [0, 0, 0, 1, 0, 0, 0]  [0, 0, 0, 0, 0, 0, 0]\n",
       "2  新绿水生春释菜  小红桥近夜看花  [0, 0, 0, 0, 0, 0, 0]  [0, 0, 0, 0, 0, 1, 0]\n",
       "3  惠山西指九峰麓  吴会南临一宿程  [0, 0, 0, 1, 0, 0, 0]  [0, 0, 0, 1, 0, 0, 0]\n",
       "4  匠笔濡心开绝境  师言得体亮高风  [0, 0, 1, 0, 1, 0, 0]  [0, 0, 0, 0, 0, 0, 0]"
      ]
     },
     "metadata": {},
     "output_type": "display_data"
    }
   ],
   "source": [
    "df = pd.read_csv('/Users/ginger./Desktop/Ginger/NYU/2024 Fall/Cognitive/Project/topic 2/词性数据/couplet_0_10000.csv')\n",
    "df_test = pd.read_csv('/Users/ginger./Desktop/Ginger/NYU/2024 Fall/Cognitive/Project/topic 2/词性数据/couplet_340001_344949.csv')\n",
    "\n",
    "display(df.head(5),df_test.head(5))"
   ]
  },
  {
   "cell_type": "code",
   "execution_count": 6,
   "metadata": {},
   "outputs": [
    {
     "data": {
      "application/vnd.jupyter.widget-view+json": {
       "model_id": "f9a5be9183af4d4a9a993425cf3e792f",
       "version_major": 2,
       "version_minor": 0
      },
      "text/plain": [
       "config.json:   0%|          | 0.00/2.58k [00:00<?, ?B/s]"
      ]
     },
     "metadata": {},
     "output_type": "display_data"
    }
   ],
   "source": [
    "# Load tokenizer and model\n",
    "tokenizer = AutoTokenizer.from_pretrained(\"KoichiYasuoka/chinese-roberta-base-upos\")\n",
    "model = AutoModelForTokenClassification.from_pretrained(\"KoichiYasuoka/chinese-roberta-base-upos\")\n",
    "# Map pos information into numbers\n",
    "pos_mapping = {\n",
    "    'ADJ': 0, \"ADP\": 1, \"ADV\": 2,\n",
    "    \"AUX\": 3, \"CCONJ\": 4, \"DET\": 5,\n",
    "    \"INTJ\": 6, \"NOUN\": 7, \"NUM\": 8,\n",
    "    \"PART\":9, \"PRON\": 10, \"PROPN\": 11,\n",
    "    \"PUNCT\": 12, \"SCONJ\": 13, \"SYM\":14,\n",
    "    \"VERB\": 15, \"X\": 16\n",
    "}"
   ]
  },
  {
   "cell_type": "code",
   "execution_count": 8,
   "metadata": {},
   "outputs": [],
   "source": [
    "def pos_tagging(sentence):\n",
    "    # Tokenize the input sentence (raw string, not pretokenized)\n",
    "    tokens = tokenizer(sentence, return_tensors=\"pt\", truncation=True)\n",
    "    input_ids = tokens[\"input_ids\"]\n",
    "    attention_mask = tokens[\"attention_mask\"]\n",
    "\n",
    "    # Pass the tokens through the model\n",
    "    with torch.no_grad():\n",
    "        outputs = model(input_ids=input_ids, attention_mask=attention_mask)\n",
    "\n",
    "    # Get predictions\n",
    "    logits = outputs.logits\n",
    "    predictions = torch.argmax(logits, dim=-1)\n",
    "\n",
    "    # Map tokens to labels\n",
    "    \n",
    "    predicted_labels = [model.config.id2label[p.item()] for p in predictions[0]]\n",
    "    tokenized_words = tokenizer.convert_ids_to_tokens(input_ids[0])\n",
    "\n",
    "    tags = list(zip(tokenized_words, predicted_labels))[1:-2]\n",
    "    results = []\n",
    "    for i in tags:\n",
    "        tag = i[1]\n",
    "        if '-' in tag:\n",
    "            results.append(tag[2:])\n",
    "        else:\n",
    "            results.append(tag)\n",
    "    return (sentence,results)\n",
    "\n",
    "def coefficients(input1,input2):\n",
    "    tags1 = input1[1]\n",
    "    tags2 = input2[1]\n",
    "    numerical_tags1 = [pos_mapping[tag] for tag in tags1]\n",
    "    numerical_tags2 = [pos_mapping[tag] for tag in tags2]\n",
    "    correlation, _ = pearsonr(numerical_tags1, numerical_tags2)\n",
    "    euclidean_distance = np.linalg.norm(np.subtract(numerical_tags1, numerical_tags2))\n",
    "    cosine_similarity = np.dot(numerical_tags1, numerical_tags2) / (\n",
    "        np.linalg.norm(numerical_tags1) * np.linalg.norm(numerical_tags2)\n",
    ")\n",
    "\n",
    "    return (input1[0],input2[0],correlation,euclidean_distance,cosine_similarity)\n",
    "    \n"
   ]
  },
  {
   "cell_type": "code",
   "execution_count": 13,
   "metadata": {},
   "outputs": [
    {
     "name": "stdout",
     "output_type": "stream",
     "text": [
      "The example couplet is:\n",
      "晚风摇树树还挺,晨露润花花更红\n",
      "The Pearson correlation coefficient is:\n",
      "0.7157\n",
      "The Euclidean distance is:\n",
      "7.2111\n",
      "The Cosine Similarity is:\n",
      "0.9421\n"
     ]
    }
   ],
   "source": [
    "a = pos_tagging(df['Column1'][0])\n",
    "b = pos_tagging(df['Column2'][0])\n",
    "coup1, coup2, pc,ed,cs = coefficients(a,b)\n",
    "print(f\"The example couplet is:\\n{coup1},{coup2}\")\n",
    "print(f\"The Pearson correlation coefficient is:\\n{np.round(pc,4)}\")\n",
    "print(f\"The Euclidean distance is:\\n{np.round(ed,4)}\")\n",
    "print(f\"The Cosine Similarity is:\\n{np.round(cs,4)}\")\n"
   ]
  },
  {
   "cell_type": "markdown",
   "metadata": {},
   "source": [
    "**TEST**"
   ]
  },
  {
   "cell_type": "code",
   "execution_count": 124,
   "metadata": {},
   "outputs": [],
   "source": [
    "df_test1 = pd.read_csv('/Users/ginger./Desktop/Ginger/NYU/2024 Fall/Cognitive/Project/topic 2/词性数据/couplet_330001_340000.csv')\n",
    "df_test2 = pd.read_csv('/Users/ginger./Desktop/Ginger/NYU/2024 Fall/Cognitive/Project/topic 2/词性数据/couplet_340001_344949.csv')\n",
    "# df_test1.head()"
   ]
  },
  {
   "cell_type": "code",
   "execution_count": 14,
   "metadata": {},
   "outputs": [],
   "source": [
    "columns = ['Column1','Column2','Pearson_coefficient','Euclidean_distance','Cosine_similarity']\n",
    "results = []\n",
    "for i in range(len(df_test1)):\n",
    "    a = pos_tagging(df_test1['Column1'][i])\n",
    "    b = pos_tagging(df_test1['Column2'][i])\n",
    "    results.append(coefficients(a,b))\n",
    "df_output1 = pd.DataFrame(results, columns=columns)\n",
    "    "
   ]
  },
  {
   "cell_type": "code",
   "execution_count": 162,
   "metadata": {},
   "outputs": [
    {
     "name": "stderr",
     "output_type": "stream",
     "text": [
      "/var/folders/dx/fzfq8m112llbtp804xlyjn_h0000gn/T/ipykernel_30526/3164468200.py:37: ConstantInputWarning: An input array is constant; the correlation coefficient is not defined.\n",
      "  correlation, _ = pearsonr(numerical_tags1, numerical_tags2)\n",
      "/var/folders/dx/fzfq8m112llbtp804xlyjn_h0000gn/T/ipykernel_30526/3164468200.py:39: RuntimeWarning: invalid value encountered in scalar divide\n",
      "  cosine_similarity = np.dot(numerical_tags1, numerical_tags2) / (\n"
     ]
    }
   ],
   "source": [
    "results = []\n",
    "for i in range(len(df_test2)):\n",
    "    a = pos_tagging(df_test2['Column1'][i])\n",
    "    b = pos_tagging(df_test2['Column2'][i])\n",
    "    results.append(coefficients(a,b))\n",
    "df_output2 = pd.DataFrame(results, columns=columns)\n",
    " "
   ]
  },
  {
   "cell_type": "code",
   "execution_count": null,
   "metadata": {},
   "outputs": [],
   "source": [
    "df_output1.to_csv('couplet_pos_results1.csv', index = False)\n",
    "df_output2.to_csv('couplet_pos_results2.csv', index = False)"
   ]
  },
  {
   "cell_type": "markdown",
   "metadata": {},
   "source": [
    "**Calculate scores for couplet used in the survey**"
   ]
  },
  {
   "cell_type": "code",
   "execution_count": 130,
   "metadata": {},
   "outputs": [],
   "source": [
    "df_survey = pd.read_csv('filtered_survey_results.csv')"
   ]
  },
  {
   "cell_type": "code",
   "execution_count": 136,
   "metadata": {},
   "outputs": [],
   "source": [
    "results = []\n",
    "survey_couplet = list(df_survey.columns[3:])\n",
    "for i in range(len(survey_couplet)):\n",
    "    a = pos_tagging(survey_couplet[i][0:7])\n",
    "    b = pos_tagging(survey_couplet[i][8:])\n",
    "    results.append(coefficients(a,b))\n",
    "df_pos_survey = pd.DataFrame(results, columns=columns)\n",
    " "
   ]
  },
  {
   "cell_type": "code",
   "execution_count": 138,
   "metadata": {},
   "outputs": [],
   "source": [
    "df_pos_survey.to_csv('pos_survey_ouput.csv')"
   ]
  }
 ],
 "metadata": {
  "kernelspec": {
   "display_name": "base",
   "language": "python",
   "name": "python3"
  },
  "language_info": {
   "codemirror_mode": {
    "name": "ipython",
    "version": 3
   },
   "file_extension": ".py",
   "mimetype": "text/x-python",
   "name": "python",
   "nbconvert_exporter": "python",
   "pygments_lexer": "ipython3",
   "version": "3.12.5"
  }
 },
 "nbformat": 4,
 "nbformat_minor": 2
}
