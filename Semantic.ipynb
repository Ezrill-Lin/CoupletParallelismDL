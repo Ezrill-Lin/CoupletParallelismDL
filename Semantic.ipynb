{
 "cells": [
  {
   "cell_type": "code",
   "execution_count": 1,
   "metadata": {},
   "outputs": [
    {
     "name": "stderr",
     "output_type": "stream",
     "text": [
      "e:\\conda\\envs\\pytorch\\lib\\site-packages\\torch\\_utils.py:776: UserWarning: TypedStorage is deprecated. It will be removed in the future and UntypedStorage will be the only storage class. This should only matter to you if you are using storages directly.  To access UntypedStorage directly, use tensor.untyped_storage() instead of tensor.storage()\n",
      "  return self.fget.__get__(instance, owner)()\n"
     ]
    }
   ],
   "source": [
    "from transformers import BertTokenizer, BertModel\n",
    "import torch\n",
    " \n",
    "# Load Bert and Tokenizer\n",
    "from transformers import AutoTokenizer, AutoModel\n",
    "tokenizer = AutoTokenizer.from_pretrained(\"SIKU-BERT/sikubert\")\n",
    "model = AutoModel.from_pretrained(\"SIKU-BERT/sikubert\")\n",
    " \n",
    "def get_word_embedding(sentence):\n",
    "    tokens = tokenizer.tokenize(sentence)\n",
    "    # Add [CLS] and [SEP]\n",
    "    tokens = ['[CLS]'] + tokens + ['[SEP]']\n",
    "    input_ids = tokenizer.convert_tokens_to_ids(tokens)\n",
    "    # Transform to PyTorch tensor\n",
    "    input_ids = torch.tensor([input_ids])\n",
    "    # Achieve word vector\n",
    "    outputs = model(input_ids)\n",
    "    embedding = outputs[0]\n",
    "    word_embedding = embedding[:, 1:-1, :]\n",
    " \n",
    "    return word_embedding"
   ]
  },
  {
   "cell_type": "code",
   "execution_count": 2,
   "metadata": {},
   "outputs": [],
   "source": [
    "sen1 = '红梅映雪千家瑞'\n",
    "sen2 = '赤县迎春百业新'\n",
    "sen1_em = get_word_embedding(sen1)\n",
    "sen2_em = get_word_embedding(sen2)"
   ]
  },
  {
   "cell_type": "code",
   "execution_count": 3,
   "metadata": {},
   "outputs": [],
   "source": [
    "def compare_sentence(sentence1, sentence2):\n",
    "    # Tokenize\n",
    "    tokens1 = tokenizer.tokenize(sentence1)\n",
    "    tokens2 = tokenizer.tokenize(sentence2)\n",
    "    # Add [CLS] and [SEP]\n",
    "    tokens1 = ['[CLS]'] + tokens1 + ['[SEP]']\n",
    "    tokens2 = ['[CLS]'] + tokens2 + ['[SEP]']\n",
    "    # Transform to id\n",
    "    input_ids1 = tokenizer.convert_tokens_to_ids(tokens1)\n",
    "    input_ids2 = tokenizer.convert_tokens_to_ids(tokens2)\n",
    "    # Transform to PyTorch tensor\n",
    "    input_ids1 = torch.tensor([input_ids1])\n",
    "    input_ids2 = torch.tensor([input_ids2])\n",
    " \n",
    "    # Achieve word vector\n",
    "    outputs1 = model(input_ids1)\n",
    "    outputs2 = model(input_ids2)\n",
    " \n",
    "    # Outputs[0] is embedding\n",
    "    embedding1 = outputs1[0]\n",
    "    embedding2 = outputs2[0]\n",
    "    sentence_embedding1 = embedding1[:, 0, :]\n",
    "    sentence_embedding2 = embedding2[:, 0, :]\n",
    " \n",
    "    # Calculate euclidean distance\n",
    "    euclidean_distance = torch.nn.PairwiseDistance(p=2)\n",
    "    distance = euclidean_distance(sentence_embedding1, sentence_embedding2)\n",
    "    # Calculate cosine similarity\n",
    "    cos = torch.nn.CosineSimilarity(dim=1, eps=1e-6)\n",
    "    similarity = cos(sentence_embedding1, sentence_embedding2)\n",
    " \n",
    "    return similarity.item(),distance.item()\n",
    " "
   ]
  },
  {
   "cell_type": "code",
   "execution_count": 4,
   "metadata": {},
   "outputs": [
    {
     "data": {
      "text/plain": [
       "(0.752055823802948, 15.432188034057617)"
      ]
     },
     "execution_count": 4,
     "metadata": {},
     "output_type": "execute_result"
    }
   ],
   "source": [
    "sen1 = '红梅映雪千家瑞'\n",
    "sen2 = '赤县迎春百业新'\n",
    "compare_sentence(sen1, sen2)"
   ]
  },
  {
   "cell_type": "code",
   "execution_count": 5,
   "metadata": {},
   "outputs": [
    {
     "data": {
      "text/plain": [
       "(0.6171375513076782, 19.113195419311523)"
      ]
     },
     "execution_count": 5,
     "metadata": {},
     "output_type": "execute_result"
    }
   ],
   "source": [
    "sen3 = '黄河东去流不息'\n",
    "sen4 = '庭前落叶扫无痕'\n",
    "compare_sentence(sen3, sen4)"
   ]
  },
  {
   "cell_type": "code",
   "execution_count": 6,
   "metadata": {},
   "outputs": [
    {
     "data": {
      "text/plain": [
       "(0.810288667678833, 13.56978988647461)"
      ]
     },
     "execution_count": 6,
     "metadata": {},
     "output_type": "execute_result"
    }
   ],
   "source": [
    "compare_sentence('咏物想家','怀古想家')"
   ]
  },
  {
   "cell_type": "code",
   "execution_count": 7,
   "metadata": {},
   "outputs": [
    {
     "data": {
      "text/plain": [
       "(0.6739263534545898, 17.448453903198242)"
      ]
     },
     "execution_count": 7,
     "metadata": {},
     "output_type": "execute_result"
    }
   ],
   "source": [
    "compare_sentence('千家瑞', '百业新')"
   ]
  },
  {
   "cell_type": "code",
   "execution_count": 8,
   "metadata": {},
   "outputs": [],
   "source": [
    "sen_in = ['红梅映雪千家瑞','花明柳媚春光好','水无两点不成冰','庄生梦蝶知无我','秋风送爽花正艳','黄河东去流不息','浪遏飞舟留客住','黄莺日日盼新岁']\n",
    "sen_out = ['赤县迎春百业新','大江南北庆丰收','王不出头谁是主','晏子分桃为有他','雨打屋檐人未归','庭前落叶扫无痕','风吹垂柳赋情来','绿柳枝枝辞旧年']\n",
    "s = []\n",
    "d = []"
   ]
  },
  {
   "cell_type": "code",
   "execution_count": 9,
   "metadata": {},
   "outputs": [],
   "source": [
    "for i in range(len(sen_in)):\n",
    "    sen1 = sen_in[i]\n",
    "    sen2 = sen_out[i]\n",
    "    similarity, distance = compare_sentence(sen1, sen2)\n",
    "    s.append(similarity)\n",
    "    d.append(distance)"
   ]
  },
  {
   "cell_type": "code",
   "execution_count": 10,
   "metadata": {},
   "outputs": [],
   "source": [
    "import pandas as pd\n",
    "data = {'in': sen_in, 'out': sen_out, 'Similarity': s, 'Distance': d}\n",
    "df = pd.DataFrame(data)"
   ]
  },
  {
   "cell_type": "code",
   "execution_count": 11,
   "metadata": {},
   "outputs": [
    {
     "data": {
      "text/html": [
       "<div>\n",
       "<style scoped>\n",
       "    .dataframe tbody tr th:only-of-type {\n",
       "        vertical-align: middle;\n",
       "    }\n",
       "\n",
       "    .dataframe tbody tr th {\n",
       "        vertical-align: top;\n",
       "    }\n",
       "\n",
       "    .dataframe thead th {\n",
       "        text-align: right;\n",
       "    }\n",
       "</style>\n",
       "<table border=\"1\" class=\"dataframe\">\n",
       "  <thead>\n",
       "    <tr style=\"text-align: right;\">\n",
       "      <th></th>\n",
       "      <th>in</th>\n",
       "      <th>out</th>\n",
       "      <th>Similarity</th>\n",
       "      <th>Distance</th>\n",
       "    </tr>\n",
       "  </thead>\n",
       "  <tbody>\n",
       "    <tr>\n",
       "      <th>0</th>\n",
       "      <td>红梅映雪千家瑞</td>\n",
       "      <td>赤县迎春百业新</td>\n",
       "      <td>0.752056</td>\n",
       "      <td>15.432188</td>\n",
       "    </tr>\n",
       "    <tr>\n",
       "      <th>1</th>\n",
       "      <td>花明柳媚春光好</td>\n",
       "      <td>大江南北庆丰收</td>\n",
       "      <td>0.663895</td>\n",
       "      <td>18.013247</td>\n",
       "    </tr>\n",
       "    <tr>\n",
       "      <th>2</th>\n",
       "      <td>水无两点不成冰</td>\n",
       "      <td>王不出头谁是主</td>\n",
       "      <td>0.618250</td>\n",
       "      <td>19.172340</td>\n",
       "    </tr>\n",
       "    <tr>\n",
       "      <th>3</th>\n",
       "      <td>庄生梦蝶知无我</td>\n",
       "      <td>晏子分桃为有他</td>\n",
       "      <td>0.731698</td>\n",
       "      <td>15.838715</td>\n",
       "    </tr>\n",
       "    <tr>\n",
       "      <th>4</th>\n",
       "      <td>秋风送爽花正艳</td>\n",
       "      <td>雨打屋檐人未归</td>\n",
       "      <td>0.661324</td>\n",
       "      <td>17.981579</td>\n",
       "    </tr>\n",
       "    <tr>\n",
       "      <th>5</th>\n",
       "      <td>黄河东去流不息</td>\n",
       "      <td>庭前落叶扫无痕</td>\n",
       "      <td>0.617138</td>\n",
       "      <td>19.113195</td>\n",
       "    </tr>\n",
       "    <tr>\n",
       "      <th>6</th>\n",
       "      <td>浪遏飞舟留客住</td>\n",
       "      <td>风吹垂柳赋情来</td>\n",
       "      <td>0.701200</td>\n",
       "      <td>16.777468</td>\n",
       "    </tr>\n",
       "    <tr>\n",
       "      <th>7</th>\n",
       "      <td>黄莺日日盼新岁</td>\n",
       "      <td>绿柳枝枝辞旧年</td>\n",
       "      <td>0.758124</td>\n",
       "      <td>15.078329</td>\n",
       "    </tr>\n",
       "  </tbody>\n",
       "</table>\n",
       "</div>"
      ],
      "text/plain": [
       "        in      out  Similarity   Distance\n",
       "0  红梅映雪千家瑞  赤县迎春百业新    0.752056  15.432188\n",
       "1  花明柳媚春光好  大江南北庆丰收    0.663895  18.013247\n",
       "2  水无两点不成冰  王不出头谁是主    0.618250  19.172340\n",
       "3  庄生梦蝶知无我  晏子分桃为有他    0.731698  15.838715\n",
       "4  秋风送爽花正艳  雨打屋檐人未归    0.661324  17.981579\n",
       "5  黄河东去流不息  庭前落叶扫无痕    0.617138  19.113195\n",
       "6  浪遏飞舟留客住  风吹垂柳赋情来    0.701200  16.777468\n",
       "7  黄莺日日盼新岁  绿柳枝枝辞旧年    0.758124  15.078329"
      ]
     },
     "execution_count": 11,
     "metadata": {},
     "output_type": "execute_result"
    }
   ],
   "source": [
    "df"
   ]
  },
  {
   "cell_type": "code",
   "execution_count": 20,
   "metadata": {},
   "outputs": [],
   "source": [
    "label_in = ['咏物想家','咏物想家','咏物喜悦','怀古喜悦','送别想家','思乡想家','咏物喜悦','咏物喜悦']\n",
    "label_out = ['怀古喜悦','思乡喜悦','战争喜悦','怀古失意','田园想家','咏物喜悦','咏物喜悦','咏物想家']\n",
    "cos = []"
   ]
  },
  {
   "cell_type": "code",
   "execution_count": 21,
   "metadata": {},
   "outputs": [],
   "source": [
    "for i in range(len(label_in)):\n",
    "    sen1 = label_in[i]\n",
    "    sen2 = label_out[i]\n",
    "    similarity, distance = compare_sentence(sen1, sen2)\n",
    "    cos.append(similarity)\n"
   ]
  },
  {
   "cell_type": "code",
   "execution_count": 23,
   "metadata": {},
   "outputs": [
    {
     "data": {
      "text/html": [
       "<div>\n",
       "<style scoped>\n",
       "    .dataframe tbody tr th:only-of-type {\n",
       "        vertical-align: middle;\n",
       "    }\n",
       "\n",
       "    .dataframe tbody tr th {\n",
       "        vertical-align: top;\n",
       "    }\n",
       "\n",
       "    .dataframe thead th {\n",
       "        text-align: right;\n",
       "    }\n",
       "</style>\n",
       "<table border=\"1\" class=\"dataframe\">\n",
       "  <thead>\n",
       "    <tr style=\"text-align: right;\">\n",
       "      <th></th>\n",
       "      <th>in</th>\n",
       "      <th>out</th>\n",
       "      <th>label_in</th>\n",
       "      <th>label_out</th>\n",
       "      <th>Similarity</th>\n",
       "    </tr>\n",
       "  </thead>\n",
       "  <tbody>\n",
       "    <tr>\n",
       "      <th>0</th>\n",
       "      <td>红梅映雪千家瑞</td>\n",
       "      <td>赤县迎春百业新</td>\n",
       "      <td>咏物想家</td>\n",
       "      <td>怀古喜悦</td>\n",
       "      <td>0.766967</td>\n",
       "    </tr>\n",
       "    <tr>\n",
       "      <th>1</th>\n",
       "      <td>花明柳媚春光好</td>\n",
       "      <td>大江南北庆丰收</td>\n",
       "      <td>咏物想家</td>\n",
       "      <td>思乡喜悦</td>\n",
       "      <td>0.721520</td>\n",
       "    </tr>\n",
       "    <tr>\n",
       "      <th>2</th>\n",
       "      <td>水无两点不成冰</td>\n",
       "      <td>王不出头谁是主</td>\n",
       "      <td>咏物喜悦</td>\n",
       "      <td>战争喜悦</td>\n",
       "      <td>0.752221</td>\n",
       "    </tr>\n",
       "    <tr>\n",
       "      <th>3</th>\n",
       "      <td>庄生梦蝶知无我</td>\n",
       "      <td>晏子分桃为有他</td>\n",
       "      <td>怀古喜悦</td>\n",
       "      <td>怀古失意</td>\n",
       "      <td>0.894446</td>\n",
       "    </tr>\n",
       "    <tr>\n",
       "      <th>4</th>\n",
       "      <td>秋风送爽花正艳</td>\n",
       "      <td>雨打屋檐人未归</td>\n",
       "      <td>送别想家</td>\n",
       "      <td>田园想家</td>\n",
       "      <td>0.757544</td>\n",
       "    </tr>\n",
       "    <tr>\n",
       "      <th>5</th>\n",
       "      <td>黄河东去流不息</td>\n",
       "      <td>庭前落叶扫无痕</td>\n",
       "      <td>思乡想家</td>\n",
       "      <td>咏物喜悦</td>\n",
       "      <td>0.704952</td>\n",
       "    </tr>\n",
       "    <tr>\n",
       "      <th>6</th>\n",
       "      <td>浪遏飞舟留客住</td>\n",
       "      <td>风吹垂柳赋情来</td>\n",
       "      <td>咏物喜悦</td>\n",
       "      <td>咏物喜悦</td>\n",
       "      <td>1.000000</td>\n",
       "    </tr>\n",
       "    <tr>\n",
       "      <th>7</th>\n",
       "      <td>黄莺日日盼新岁</td>\n",
       "      <td>绿柳枝枝辞旧年</td>\n",
       "      <td>咏物喜悦</td>\n",
       "      <td>咏物想家</td>\n",
       "      <td>0.850157</td>\n",
       "    </tr>\n",
       "  </tbody>\n",
       "</table>\n",
       "</div>"
      ],
      "text/plain": [
       "        in      out label_in label_out  Similarity\n",
       "0  红梅映雪千家瑞  赤县迎春百业新     咏物想家      怀古喜悦    0.766967\n",
       "1  花明柳媚春光好  大江南北庆丰收     咏物想家      思乡喜悦    0.721520\n",
       "2  水无两点不成冰  王不出头谁是主     咏物喜悦      战争喜悦    0.752221\n",
       "3  庄生梦蝶知无我  晏子分桃为有他     怀古喜悦      怀古失意    0.894446\n",
       "4  秋风送爽花正艳  雨打屋檐人未归     送别想家      田园想家    0.757544\n",
       "5  黄河东去流不息  庭前落叶扫无痕     思乡想家      咏物喜悦    0.704952\n",
       "6  浪遏飞舟留客住  风吹垂柳赋情来     咏物喜悦      咏物喜悦    1.000000\n",
       "7  黄莺日日盼新岁  绿柳枝枝辞旧年     咏物喜悦      咏物想家    0.850157"
      ]
     },
     "execution_count": 23,
     "metadata": {},
     "output_type": "execute_result"
    }
   ],
   "source": [
    "data = {'in': sen_in, 'out': sen_out, 'label_in': label_in, 'label_out': label_out, 'Similarity': cos}\n",
    "df = pd.DataFrame(data)\n",
    "df"
   ]
  },
  {
   "cell_type": "code",
   "execution_count": 24,
   "metadata": {},
   "outputs": [],
   "source": [
    "import os\n",
    "desktop = os.path.join(os.path.expanduser(\"~\"), \"Desktop\")\n",
    "file_path = os.path.join(desktop, \"output.csv\")\n",
    "\n",
    "# Save the DataFrame to a CSV file\n",
    "df.to_csv(file_path, index=False)"
   ]
  }
 ],
 "metadata": {
  "kernelspec": {
   "display_name": "pytorch",
   "language": "python",
   "name": "python3"
  },
  "language_info": {
   "codemirror_mode": {
    "name": "ipython",
    "version": 3
   },
   "file_extension": ".py",
   "mimetype": "text/x-python",
   "name": "python",
   "nbconvert_exporter": "python",
   "pygments_lexer": "ipython3",
   "version": "3.9.19"
  }
 },
 "nbformat": 4,
 "nbformat_minor": 2
}
